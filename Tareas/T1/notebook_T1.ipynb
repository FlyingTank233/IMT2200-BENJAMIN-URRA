{
 "cells": [
  {
   "cell_type": "markdown",
   "id": "8cb32e3e-0a3c-460b-bbe3-6680457c742e",
   "metadata": {},
   "source": [
    "### Librerías\n",
    "> Aquí importo las librerías recomendadas en el notebook de la tarea 1."
   ]
  },
  {
   "cell_type": "code",
   "execution_count": 1,
   "id": "63107168-a7f1-4945-b031-5d73c749164e",
   "metadata": {},
   "outputs": [],
   "source": [
    "import numpy as np\n",
    "import pandas as pd\n",
    "import matplotlib.pyplot as plt\n",
    "import os"
   ]
  },
  {
   "cell_type": "markdown",
   "id": "da646794-df7b-4660-88d1-72330388d1ce",
   "metadata": {},
   "source": [
    "### Dataframe unificado\n",
    "> **3.1 a)** Genere un DataFrame único con toda la información de cada juego, incluyendo: nombres de artistas y diseñadores involucrados, mecánicas, categorías, tipo, familia y editorial. Guarde este DataFrame en un nuevo archivo CSV."
   ]
  },
  {
   "cell_type": "markdown",
   "id": "d1bec56b-034b-456c-a1e7-f3bc86cf9638",
   "metadata": {},
   "source": [
    "Primero, voy a generar los paths a los archivos con el módulo 'os'."
   ]
  },
  {
   "cell_type": "code",
   "execution_count": 2,
   "id": "79ec02c5-3fa6-47c1-b614-3512d688096a",
   "metadata": {},
   "outputs": [],
   "source": [
    "## Paths\n",
    "path_de_juegos = os.path.join('data', 'bgg_GameItem.csv')\n",
    "path_de_tipo_juego = os.path.join('data', 'bgg_GameType.csv')\n",
    "path_de_personas = os.path.join('data', 'bgg_Person.csv')\n",
    "path_de_publisher = os.path.join('data', 'bgg_Publisher.csv')\n",
    "path_de_categorias = os.path.join('data', 'bgg_Category.csv')\n",
    "path_de_mecanicas = os.path.join('data', 'bgg_Mechanic.csv')\n",
    "path_de_familias = os.path.join('data', 'bgg_GameFamily.csv')"
   ]
  },
  {
   "cell_type": "markdown",
   "id": "8d26ae9d-678d-499a-b4a0-735cd031610b",
   "metadata": {},
   "source": [
    "Carga de archivos, también corrige los datos de las columnas."
   ]
  },
  {
   "cell_type": "code",
   "execution_count": 3,
   "id": "e6cf5b90-32e7-4856-a354-dc2974600639",
   "metadata": {},
   "outputs": [],
   "source": [
    "## Carga\n",
    "data_juegos = pd.read_csv(path_de_juegos, delimiter=',').set_index('bgg_id')\n",
    "data_tipo_juego = pd.read_csv(path_de_tipo_juego, delimiter=',').set_index('bgg_id')['name']\n",
    "data_persona = pd.read_csv(path_de_personas, delimiter=',').set_index('bgg_id')['name']\n",
    "data_publisher = pd.read_csv(path_de_publisher, delimiter=',').set_index('bgg_id')['name']\n",
    "data_categoria = pd.read_csv(path_de_categorias, delimiter=',').set_index('bgg_id')['name']\n",
    "data_mecanica = pd.read_csv(path_de_mecanicas, delimiter=',').set_index('bgg_id')['name']\n",
    "data_familia = pd.read_csv(path_de_familias, delimiter=',').set_index('bgg_id')['name']\n",
    "\n",
    "\n",
    "# Convertir columnas de data_juegos a \"str\" para eliminar \"float\", convertir en lista.\n",
    "## Lista de columnas de juegos que voy a convertir de id a nombre.\n",
    "columnas_a_convertir = ['game_type','designer', 'artist', 'publisher', 'category', 'mechanic', 'family']\n",
    "## Hace que se repita para cada columna pedida.\n",
    "for i in columnas_a_convertir:\n",
    "    # Esto convierte los valores de las columnas de str/float a una lista con str.\n",
    "    lista_creada = data_juegos[i].astype(str).str.split(',')\n",
    "    \n",
    "    # Si está en columna 'designer' o 'artist', es decir si tiene ID de persona.\n",
    "    if i in ['designer', 'artist']:\n",
    "        for lista in lista_creada:\n",
    "            # Esto reemplaza los contenidos de las listas por el nombre de las personas.\n",
    "            for j in range(len(lista)):\n",
    "                if lista[j] != 'nan':\n",
    "                    lista[j] = data_persona[int(lista[j])]\n",
    "    \n",
    "    # Si está en columna 'game_type', es decir si tiene ID de tipo de juego.\n",
    "    elif i in ['game_type']:\n",
    "        for lista in lista_creada:\n",
    "            # Esto reemplaza los contenidos de las listas por tipo de juego.\n",
    "            for j in range(len(lista)):\n",
    "                if lista[j] != 'nan':\n",
    "                    lista[j] = data_tipo_juego[int(lista[j])]\n",
    "\n",
    "    # Si está en columna 'publisher', es decir si tiene IDs de sus publishers.\n",
    "    elif i in ['publisher']:\n",
    "        for lista in lista_creada:\n",
    "            # Esto reemplaza los contenidos de las listas por nombre de editoriales.\n",
    "            for j in range(len(lista)):\n",
    "                if lista[j] != 'nan':\n",
    "                    lista[j] = data_publisher[int(lista[j])]\n",
    "\n",
    "    # Si está en columna 'category'.\n",
    "    elif i in ['category']:\n",
    "        for lista in lista_creada:\n",
    "            # Esto reemplaza los contenidos de las listas por nombre de categorias.\n",
    "            for j in range(len(lista)):\n",
    "                if lista[j] != 'nan':\n",
    "                    lista[j] = data_categoria[int(lista[j])]\n",
    "\n",
    "    # Si está en columna 'mechanic'.\n",
    "    elif i in ['mechanic']:\n",
    "        for lista in lista_creada:\n",
    "            # Esto reemplaza los contenidos de las listas por nombre de mecánicas.\n",
    "            for j in range(len(lista)):\n",
    "                if lista[j] != 'nan':\n",
    "                    lista[j] = data_mecanica[int(lista[j])]\n",
    "\n",
    "    # Si está en columna 'family'\n",
    "    elif i in ['family']:\n",
    "        for lista in lista_creada:\n",
    "            # Esto reemplaza los contenidos de las listas por la familia a la que pertenece.\n",
    "            for j in range(len(lista)):\n",
    "                if lista[j] != 'nan':\n",
    "                    lista[j] = data_familia[int(lista[j])]\n",
    "                    \n",
    "    # Guarda los cambios a la columna.\n",
    "    data_juegos[i] = lista_creada"
   ]
  },
  {
   "cell_type": "markdown",
   "id": "38fb9ace-45bd-4a2a-8171-dd4e95fc3605",
   "metadata": {},
   "source": [
    "Ahora voy a crear el dataframe unificado con las mismas columnas del dataframe data_juegos."
   ]
  },
  {
   "cell_type": "code",
   "execution_count": 4,
   "id": "65eefa28-a4da-4a1c-8966-0d579646635d",
   "metadata": {},
   "outputs": [
    {
     "data": {
      "text/html": [
       "<div>\n",
       "<style scoped>\n",
       "    .dataframe tbody tr th:only-of-type {\n",
       "        vertical-align: middle;\n",
       "    }\n",
       "\n",
       "    .dataframe tbody tr th {\n",
       "        vertical-align: top;\n",
       "    }\n",
       "\n",
       "    .dataframe thead th {\n",
       "        text-align: right;\n",
       "    }\n",
       "</style>\n",
       "<table border=\"1\" class=\"dataframe\">\n",
       "  <thead>\n",
       "    <tr style=\"text-align: right;\">\n",
       "      <th></th>\n",
       "      <th>name</th>\n",
       "      <th>year</th>\n",
       "      <th>game_type</th>\n",
       "      <th>designer</th>\n",
       "      <th>artist</th>\n",
       "      <th>publisher</th>\n",
       "      <th>min_players</th>\n",
       "      <th>max_players</th>\n",
       "      <th>min_players_rec</th>\n",
       "      <th>max_players_rec</th>\n",
       "      <th>...</th>\n",
       "      <th>stddev_rating</th>\n",
       "      <th>bayes_rating</th>\n",
       "      <th>complexity</th>\n",
       "      <th>language_dependency</th>\n",
       "      <th>bga_id</th>\n",
       "      <th>dbpedia_id</th>\n",
       "      <th>luding_id</th>\n",
       "      <th>spielen_id</th>\n",
       "      <th>wikidata_id</th>\n",
       "      <th>wikipedia_id</th>\n",
       "    </tr>\n",
       "    <tr>\n",
       "      <th>bgg_id</th>\n",
       "      <th></th>\n",
       "      <th></th>\n",
       "      <th></th>\n",
       "      <th></th>\n",
       "      <th></th>\n",
       "      <th></th>\n",
       "      <th></th>\n",
       "      <th></th>\n",
       "      <th></th>\n",
       "      <th></th>\n",
       "      <th></th>\n",
       "      <th></th>\n",
       "      <th></th>\n",
       "      <th></th>\n",
       "      <th></th>\n",
       "      <th></th>\n",
       "      <th></th>\n",
       "      <th></th>\n",
       "      <th></th>\n",
       "      <th></th>\n",
       "      <th></th>\n",
       "    </tr>\n",
       "  </thead>\n",
       "  <tbody>\n",
       "    <tr>\n",
       "      <th>1</th>\n",
       "      <td>Die Macher</td>\n",
       "      <td>1986.0</td>\n",
       "      <td>[Strategy Game]</td>\n",
       "      <td>[Karl-Heinz Schmiel]</td>\n",
       "      <td>[Marcus Gschwendtner, Harald Lieske]</td>\n",
       "      <td>[Hans im Glück, Moskito Spiele, Ediciones MasQ...</td>\n",
       "      <td>3.0</td>\n",
       "      <td>5.0</td>\n",
       "      <td>4.0</td>\n",
       "      <td>5.0</td>\n",
       "      <td>...</td>\n",
       "      <td>1.57510</td>\n",
       "      <td>7.06367</td>\n",
       "      <td>4.3144</td>\n",
       "      <td>1.166667</td>\n",
       "      <td>NaN</td>\n",
       "      <td>NaN</td>\n",
       "      <td>NaN</td>\n",
       "      <td>NaN</td>\n",
       "      <td>NaN</td>\n",
       "      <td>NaN</td>\n",
       "    </tr>\n",
       "    <tr>\n",
       "      <th>2</th>\n",
       "      <td>Dragonmaster</td>\n",
       "      <td>1981.0</td>\n",
       "      <td>[Strategy Game]</td>\n",
       "      <td>[G. W. \"Jerry\" D'Arcey]</td>\n",
       "      <td>[Bob Pepper]</td>\n",
       "      <td>[E.S. Lowe, Milton Bradley]</td>\n",
       "      <td>3.0</td>\n",
       "      <td>4.0</td>\n",
       "      <td>3.0</td>\n",
       "      <td>4.0</td>\n",
       "      <td>...</td>\n",
       "      <td>1.46752</td>\n",
       "      <td>5.76599</td>\n",
       "      <td>1.9636</td>\n",
       "      <td>NaN</td>\n",
       "      <td>NaN</td>\n",
       "      <td>NaN</td>\n",
       "      <td>NaN</td>\n",
       "      <td>NaN</td>\n",
       "      <td>NaN</td>\n",
       "      <td>NaN</td>\n",
       "    </tr>\n",
       "  </tbody>\n",
       "</table>\n",
       "<p>2 rows × 37 columns</p>\n",
       "</div>"
      ],
      "text/plain": [
       "                name    year        game_type                 designer  \\\n",
       "bgg_id                                                                   \n",
       "1         Die Macher  1986.0  [Strategy Game]     [Karl-Heinz Schmiel]   \n",
       "2       Dragonmaster  1981.0  [Strategy Game]  [G. W. \"Jerry\" D'Arcey]   \n",
       "\n",
       "                                      artist  \\\n",
       "bgg_id                                         \n",
       "1       [Marcus Gschwendtner, Harald Lieske]   \n",
       "2                               [Bob Pepper]   \n",
       "\n",
       "                                                publisher  min_players  \\\n",
       "bgg_id                                                                   \n",
       "1       [Hans im Glück, Moskito Spiele, Ediciones MasQ...          3.0   \n",
       "2                             [E.S. Lowe, Milton Bradley]          3.0   \n",
       "\n",
       "        max_players  min_players_rec  max_players_rec  ...  stddev_rating  \\\n",
       "bgg_id                                                 ...                  \n",
       "1               5.0              4.0              5.0  ...        1.57510   \n",
       "2               4.0              3.0              4.0  ...        1.46752   \n",
       "\n",
       "        bayes_rating  complexity  language_dependency  bga_id  dbpedia_id  \\\n",
       "bgg_id                                                                      \n",
       "1            7.06367      4.3144             1.166667     NaN         NaN   \n",
       "2            5.76599      1.9636                  NaN     NaN         NaN   \n",
       "\n",
       "       luding_id spielen_id  wikidata_id  wikipedia_id  \n",
       "bgg_id                                                  \n",
       "1            NaN        NaN          NaN           NaN  \n",
       "2            NaN        NaN          NaN           NaN  \n",
       "\n",
       "[2 rows x 37 columns]"
      ]
     },
     "execution_count": 4,
     "metadata": {},
     "output_type": "execute_result"
    }
   ],
   "source": [
    "dataframe_nuevo = data_juegos.copy()\n",
    "\n",
    "dataframe_nuevo.head(2)"
   ]
  },
  {
   "cell_type": "markdown",
   "id": "68755771-b809-42bd-915c-680fde47f19d",
   "metadata": {},
   "source": [
    "Ahora que tengo un nuevo dataframe con toda la información pedida, lo voy a convertir de vuelta a un archivo '.CSV'."
   ]
  },
  {
   "cell_type": "code",
   "execution_count": 5,
   "id": "2a2601d9-6326-422f-a3c4-46f4c0e7c566",
   "metadata": {},
   "outputs": [],
   "source": [
    "dataframe_nuevo.to_csv('Dataframe_unificado_3.1_a.csv', sep=',')"
   ]
  },
  {
   "cell_type": "markdown",
   "id": "d0ab45a1-e176-4f66-a2b9-607d6bedd30c",
   "metadata": {},
   "source": [
    "> **3.1 b)** ¿Cuánto espacio en disco ocupa este DataFrame? ¿Cuánto espacio en disco ocupan los documentos CSV separados? ¿A qué se debe esta diferencia? Comente."
   ]
  },
  {
   "cell_type": "markdown",
   "id": "4f81b122-af5b-4941-9b18-739df2292afe",
   "metadata": {},
   "source": [
    "El dataframe unificado ocupa:\n",
    "- **35,094** KB (**Dataframe_unificado_3.1_a.csv**)\n",
    "\n",
    "Los documentos CSV separados ocupan: \n",
    "- 2 KB (**bgg_Category.csv**)\n",
    "- 166 KB (**bgg_GameFamily.csv**)\n",
    "- 15,701 KB (**bgg_GameItem.csv**)\n",
    "- 1 KB (**bgg_GameType.csv**)\n",
    "- 5 KB (**bgg_Mechanic.csv**)\n",
    "- 1,135 KB (**bgg_Person.csv**)\n",
    "- 583 KB (**bgg_Publisher.csv**)\n",
    "- TOTAL: **17,593** KB\n",
    "\n",
    "### ¿Por que la diferencia? \n",
    "En este caso el Dataframe unificado pesa más que todos los documentos '.CSV' separados porque en vez de ahorrar espacio solo usando IDs para referirse a cosas (Como lo hacen los archivos originales), uno de los requisitos del dataframe unificado era que los elementos de las columnas mostraran los nombres completos en vez de los IDs, lo cuál hace que haya mucho más texto que en los archivos originales."
   ]
  },
  {
   "cell_type": "markdown",
   "id": "0c57627b-f77b-445f-adc0-fd0277086af2",
   "metadata": {},
   "source": [
    "## Juegos publicados anualmente\n",
    "> **3.2 a)** Limpie los datos para dejar solo aquellos que tienen valores válidos de año de publicación. Luego responda: ¿cuál es el rango de años con el que estamos trabajando? ¿Tienen sentido estos años?"
   ]
  },
  {
   "cell_type": "markdown",
   "id": "ef1b5058-c1f7-49cf-a647-a43f0223b0f9",
   "metadata": {},
   "source": [
    "Para esto, voy a abrir el dataframe unificado hecho anteriormente, creando uno nuevo para modificar. También voy a añadir una fila con un año inválido para testear."
   ]
  },
  {
   "cell_type": "code",
   "execution_count": 6,
   "id": "3878cea5-702b-4d22-97b7-f956c827366d",
   "metadata": {},
   "outputs": [
    {
     "data": {
      "text/html": [
       "<div>\n",
       "<style scoped>\n",
       "    .dataframe tbody tr th:only-of-type {\n",
       "        vertical-align: middle;\n",
       "    }\n",
       "\n",
       "    .dataframe tbody tr th {\n",
       "        vertical-align: top;\n",
       "    }\n",
       "\n",
       "    .dataframe thead th {\n",
       "        text-align: right;\n",
       "    }\n",
       "</style>\n",
       "<table border=\"1\" class=\"dataframe\">\n",
       "  <thead>\n",
       "    <tr style=\"text-align: right;\">\n",
       "      <th></th>\n",
       "      <th>name</th>\n",
       "      <th>year</th>\n",
       "      <th>game_type</th>\n",
       "      <th>designer</th>\n",
       "      <th>artist</th>\n",
       "      <th>publisher</th>\n",
       "      <th>min_players</th>\n",
       "      <th>max_players</th>\n",
       "      <th>min_players_rec</th>\n",
       "      <th>max_players_rec</th>\n",
       "      <th>...</th>\n",
       "      <th>stddev_rating</th>\n",
       "      <th>bayes_rating</th>\n",
       "      <th>complexity</th>\n",
       "      <th>language_dependency</th>\n",
       "      <th>bga_id</th>\n",
       "      <th>dbpedia_id</th>\n",
       "      <th>luding_id</th>\n",
       "      <th>spielen_id</th>\n",
       "      <th>wikidata_id</th>\n",
       "      <th>wikipedia_id</th>\n",
       "    </tr>\n",
       "    <tr>\n",
       "      <th>bgg_id</th>\n",
       "      <th></th>\n",
       "      <th></th>\n",
       "      <th></th>\n",
       "      <th></th>\n",
       "      <th></th>\n",
       "      <th></th>\n",
       "      <th></th>\n",
       "      <th></th>\n",
       "      <th></th>\n",
       "      <th></th>\n",
       "      <th></th>\n",
       "      <th></th>\n",
       "      <th></th>\n",
       "      <th></th>\n",
       "      <th></th>\n",
       "      <th></th>\n",
       "      <th></th>\n",
       "      <th></th>\n",
       "      <th></th>\n",
       "      <th></th>\n",
       "      <th></th>\n",
       "    </tr>\n",
       "  </thead>\n",
       "  <tbody>\n",
       "    <tr>\n",
       "      <th>392146</th>\n",
       "      <td>Nightmares of Sushi</td>\n",
       "      <td>2023.0</td>\n",
       "      <td>['nan']</td>\n",
       "      <td>['Geoffrey Chia']</td>\n",
       "      <td>['Geoffrey Chia']</td>\n",
       "      <td>['Good Spirit Games']</td>\n",
       "      <td>2.0</td>\n",
       "      <td>6.0</td>\n",
       "      <td>2.0</td>\n",
       "      <td>6.0</td>\n",
       "      <td>...</td>\n",
       "      <td>NaN</td>\n",
       "      <td>NaN</td>\n",
       "      <td>NaN</td>\n",
       "      <td>NaN</td>\n",
       "      <td>NaN</td>\n",
       "      <td>NaN</td>\n",
       "      <td>NaN</td>\n",
       "      <td>NaN</td>\n",
       "      <td>NaN</td>\n",
       "      <td>NaN</td>\n",
       "    </tr>\n",
       "    <tr>\n",
       "      <th>113904</th>\n",
       "      <td>wagh</td>\n",
       "      <td>año inválido</td>\n",
       "      <td>0</td>\n",
       "      <td>0</td>\n",
       "      <td>0</td>\n",
       "      <td>0</td>\n",
       "      <td>0.0</td>\n",
       "      <td>0.0</td>\n",
       "      <td>0.0</td>\n",
       "      <td>0.0</td>\n",
       "      <td>...</td>\n",
       "      <td>0.0</td>\n",
       "      <td>0.0</td>\n",
       "      <td>0.0</td>\n",
       "      <td>0.0</td>\n",
       "      <td>0.0</td>\n",
       "      <td>0.0</td>\n",
       "      <td>0.0</td>\n",
       "      <td>0.0</td>\n",
       "      <td>0.0</td>\n",
       "      <td>0.0</td>\n",
       "    </tr>\n",
       "  </tbody>\n",
       "</table>\n",
       "<p>2 rows × 37 columns</p>\n",
       "</div>"
      ],
      "text/plain": [
       "                       name          year game_type           designer  \\\n",
       "bgg_id                                                                   \n",
       "392146  Nightmares of Sushi        2023.0   ['nan']  ['Geoffrey Chia']   \n",
       "113904                 wagh  año inválido         0                  0   \n",
       "\n",
       "                   artist              publisher  min_players  max_players  \\\n",
       "bgg_id                                                                       \n",
       "392146  ['Geoffrey Chia']  ['Good Spirit Games']          2.0          6.0   \n",
       "113904                  0                      0          0.0          0.0   \n",
       "\n",
       "        min_players_rec  max_players_rec  ...  stddev_rating  bayes_rating  \\\n",
       "bgg_id                                    ...                                \n",
       "392146              2.0              6.0  ...            NaN           NaN   \n",
       "113904              0.0              0.0  ...            0.0           0.0   \n",
       "\n",
       "        complexity  language_dependency  bga_id  dbpedia_id luding_id  \\\n",
       "bgg_id                                                                  \n",
       "392146         NaN                  NaN     NaN         NaN       NaN   \n",
       "113904         0.0                  0.0     0.0         0.0       0.0   \n",
       "\n",
       "       spielen_id  wikidata_id  wikipedia_id  \n",
       "bgg_id                                        \n",
       "392146        NaN          NaN           NaN  \n",
       "113904        0.0          0.0           0.0  \n",
       "\n",
       "[2 rows x 37 columns]"
      ]
     },
     "execution_count": 6,
     "metadata": {},
     "output_type": "execute_result"
    }
   ],
   "source": [
    "# Path y carga.\n",
    "path_df_unificado = os.path.join('Dataframe_unificado_3.1_a.csv')\n",
    "data_anos_validos = pd.read_csv(path_df_unificado, delimiter=',').set_index('bgg_id')\n",
    "# Lo de abajo es para testear que se limpien los años inválidos.\n",
    "data_anos_validos.loc[len(data_anos_validos)] = ['wagh', \"año inválido\", 0,0,0,0,0,0,0,0,0,0,0,0,0,0,0,0,0,0,0,0,0,0,0,0,0,0,0,0,0,0,0,0,0,0,0]\n",
    "data_anos_validos.tail(2)"
   ]
  },
  {
   "cell_type": "markdown",
   "id": "44728bb7-92df-4d1a-8bbb-29018b72fe99",
   "metadata": {},
   "source": [
    "Ahora que tengo el dataframe, voy a intentar eliminar todos los juegos sin años válidos, primero convirtiendo a los años que no sean números en \"NaN\" y después eliminandolos."
   ]
  },
  {
   "cell_type": "code",
   "execution_count": 7,
   "id": "18ecbe9f-75b2-41e7-840b-d7b98076ad94",
   "metadata": {},
   "outputs": [
    {
     "data": {
      "text/html": [
       "<div>\n",
       "<style scoped>\n",
       "    .dataframe tbody tr th:only-of-type {\n",
       "        vertical-align: middle;\n",
       "    }\n",
       "\n",
       "    .dataframe tbody tr th {\n",
       "        vertical-align: top;\n",
       "    }\n",
       "\n",
       "    .dataframe thead th {\n",
       "        text-align: right;\n",
       "    }\n",
       "</style>\n",
       "<table border=\"1\" class=\"dataframe\">\n",
       "  <thead>\n",
       "    <tr style=\"text-align: right;\">\n",
       "      <th></th>\n",
       "      <th>name</th>\n",
       "      <th>year</th>\n",
       "      <th>game_type</th>\n",
       "      <th>designer</th>\n",
       "      <th>artist</th>\n",
       "      <th>publisher</th>\n",
       "      <th>min_players</th>\n",
       "      <th>max_players</th>\n",
       "      <th>min_players_rec</th>\n",
       "      <th>max_players_rec</th>\n",
       "      <th>...</th>\n",
       "      <th>stddev_rating</th>\n",
       "      <th>bayes_rating</th>\n",
       "      <th>complexity</th>\n",
       "      <th>language_dependency</th>\n",
       "      <th>bga_id</th>\n",
       "      <th>dbpedia_id</th>\n",
       "      <th>luding_id</th>\n",
       "      <th>spielen_id</th>\n",
       "      <th>wikidata_id</th>\n",
       "      <th>wikipedia_id</th>\n",
       "    </tr>\n",
       "    <tr>\n",
       "      <th>bgg_id</th>\n",
       "      <th></th>\n",
       "      <th></th>\n",
       "      <th></th>\n",
       "      <th></th>\n",
       "      <th></th>\n",
       "      <th></th>\n",
       "      <th></th>\n",
       "      <th></th>\n",
       "      <th></th>\n",
       "      <th></th>\n",
       "      <th></th>\n",
       "      <th></th>\n",
       "      <th></th>\n",
       "      <th></th>\n",
       "      <th></th>\n",
       "      <th></th>\n",
       "      <th></th>\n",
       "      <th></th>\n",
       "      <th></th>\n",
       "      <th></th>\n",
       "      <th></th>\n",
       "    </tr>\n",
       "  </thead>\n",
       "  <tbody>\n",
       "    <tr>\n",
       "      <th>391834</th>\n",
       "      <td>SpellBook</td>\n",
       "      <td>2023.0</td>\n",
       "      <td>['nan']</td>\n",
       "      <td>['Phil Walker-Harding']</td>\n",
       "      <td>['Cyrille Bertin']</td>\n",
       "      <td>['Space Cowboys']</td>\n",
       "      <td>1.0</td>\n",
       "      <td>4.0</td>\n",
       "      <td>1.0</td>\n",
       "      <td>4.0</td>\n",
       "      <td>...</td>\n",
       "      <td>NaN</td>\n",
       "      <td>NaN</td>\n",
       "      <td>NaN</td>\n",
       "      <td>NaN</td>\n",
       "      <td>NaN</td>\n",
       "      <td>NaN</td>\n",
       "      <td>NaN</td>\n",
       "      <td>NaN</td>\n",
       "      <td>NaN</td>\n",
       "      <td>NaN</td>\n",
       "    </tr>\n",
       "    <tr>\n",
       "      <th>392146</th>\n",
       "      <td>Nightmares of Sushi</td>\n",
       "      <td>2023.0</td>\n",
       "      <td>['nan']</td>\n",
       "      <td>['Geoffrey Chia']</td>\n",
       "      <td>['Geoffrey Chia']</td>\n",
       "      <td>['Good Spirit Games']</td>\n",
       "      <td>2.0</td>\n",
       "      <td>6.0</td>\n",
       "      <td>2.0</td>\n",
       "      <td>6.0</td>\n",
       "      <td>...</td>\n",
       "      <td>NaN</td>\n",
       "      <td>NaN</td>\n",
       "      <td>NaN</td>\n",
       "      <td>NaN</td>\n",
       "      <td>NaN</td>\n",
       "      <td>NaN</td>\n",
       "      <td>NaN</td>\n",
       "      <td>NaN</td>\n",
       "      <td>NaN</td>\n",
       "      <td>NaN</td>\n",
       "    </tr>\n",
       "  </tbody>\n",
       "</table>\n",
       "<p>2 rows × 37 columns</p>\n",
       "</div>"
      ],
      "text/plain": [
       "                       name    year game_type                 designer  \\\n",
       "bgg_id                                                                   \n",
       "391834            SpellBook  2023.0   ['nan']  ['Phil Walker-Harding']   \n",
       "392146  Nightmares of Sushi  2023.0   ['nan']        ['Geoffrey Chia']   \n",
       "\n",
       "                    artist              publisher  min_players  max_players  \\\n",
       "bgg_id                                                                        \n",
       "391834  ['Cyrille Bertin']      ['Space Cowboys']          1.0          4.0   \n",
       "392146   ['Geoffrey Chia']  ['Good Spirit Games']          2.0          6.0   \n",
       "\n",
       "        min_players_rec  max_players_rec  ...  stddev_rating  bayes_rating  \\\n",
       "bgg_id                                    ...                                \n",
       "391834              1.0              4.0  ...            NaN           NaN   \n",
       "392146              2.0              6.0  ...            NaN           NaN   \n",
       "\n",
       "        complexity  language_dependency  bga_id  dbpedia_id luding_id  \\\n",
       "bgg_id                                                                  \n",
       "391834         NaN                  NaN     NaN         NaN       NaN   \n",
       "392146         NaN                  NaN     NaN         NaN       NaN   \n",
       "\n",
       "       spielen_id  wikidata_id  wikipedia_id  \n",
       "bgg_id                                        \n",
       "391834        NaN          NaN           NaN  \n",
       "392146        NaN          NaN           NaN  \n",
       "\n",
       "[2 rows x 37 columns]"
      ]
     },
     "execution_count": 7,
     "metadata": {},
     "output_type": "execute_result"
    }
   ],
   "source": [
    "data_anos_validos['year'] = pd.to_numeric(data_anos_validos['year'], errors='coerce')\n",
    "data_anos_validos = data_anos_validos.dropna(subset=['year'])\n",
    "data_anos_validos.tail(2)"
   ]
  },
  {
   "cell_type": "markdown",
   "id": "b19be1fb-da92-4560-b8c1-de030ec93bdd",
   "metadata": {},
   "source": [
    "Ahora para saber el rango de años, voy a printear el valor máximo y mínimo en esa columna."
   ]
  },
  {
   "cell_type": "code",
   "execution_count": 8,
   "id": "164fcd0a-77fa-4181-aa50-9c5ac928d8ab",
   "metadata": {},
   "outputs": [
    {
     "name": "stdout",
     "output_type": "stream",
     "text": [
      "2026.0\n",
      "-3500.0\n"
     ]
    }
   ],
   "source": [
    "print(data_anos_validos['year'].max())\n",
    "print(data_anos_validos['year'].min())"
   ]
  },
  {
   "cell_type": "markdown",
   "id": "f369d8a6-99e8-46d3-8816-51d2169d9e9b",
   "metadata": {},
   "source": [
    "### ¿Cuál es el rango de años?\n",
    "El rango es desde el año -3500 al año 2026.\n",
    "\n",
    "### ¿Tiene sentido el rango de años?\n",
    "Eh, debatible. Podría tener sentido si el juego de 2026 va a ser un juego que va a ser lanzado en el futuro, y el juego de -3500 podría simplemente ser un juego publicado antes de Cristo, algo poco probable pero no directamente imposible."
   ]
  },
  {
   "cell_type": "markdown",
   "id": "35bcf9e6-0b79-4dce-a8af-eb9eafd0a4f5",
   "metadata": {},
   "source": [
    "> **3.2 b)** Seleccione solamente los juegos entre los años 1980 y 2025. Luego grafique la cantidad de juegos publicados por año. ¿Cómo es esta tendencia? Comente."
   ]
  },
  {
   "cell_type": "markdown",
   "id": "cd0645dc-f8c5-49f1-987c-87b3e40ac1c0",
   "metadata": {},
   "source": [
    "Voy a copiar el dataframe limpiado para empezar, y después voy a dropear todo lo que no esté en el rango."
   ]
  },
  {
   "cell_type": "code",
   "execution_count": 9,
   "id": "07c38cbc-5ce3-4de2-8754-2922bb3c175a",
   "metadata": {},
   "outputs": [],
   "source": [
    "data_rango = data_anos_validos.copy()\n",
    "data_rango = data_rango[data_rango['year'] >= 1980]\n",
    "data_rango = data_rango[data_rango['year'] <= 2025]\n",
    "# Aquí quito los decimales de los años, todos son '.0' en este caso.\n",
    "data_rango['year'] = data_rango['year'].astype('int')"
   ]
  },
  {
   "cell_type": "markdown",
   "id": "ed844c5e-0b3d-4f55-b4f4-a7be711b396a",
   "metadata": {},
   "source": [
    "Ahora que tengo solo los juegos en el rango 1980-2025, necesito graficarlos, mostrando cuantos fueron publicados por año."
   ]
  },
  {
   "cell_type": "code",
   "execution_count": 10,
   "id": "72e96348-d84e-4384-9ac9-745cdd7833f8",
   "metadata": {},
   "outputs": [
    {
     "data": {
      "text/plain": [
       "Text(0.5, 1.0, 'Cantidad de juegos por año en el rango 1980-2025')"
      ]
     },
     "execution_count": 10,
     "metadata": {},
     "output_type": "execute_result"
    },
    {
     "data": {
      "image/png": "[encoded data removed]",
      "text/plain": [
       "<Figure size 1200x500 with 1 Axes>"
      ]
     },
     "metadata": {},
     "output_type": "display_data"
    }
   ],
   "source": [
    "# Creo nuevo dataframe que solo va a tener años.\n",
    "data_short = pd.DataFrame()\n",
    "\n",
    "data_short['Año'] = data_rango['year']\n",
    "# Esto cuenta cuantos juegos hay por cada año, después hago el gráfico con esa info.\n",
    "year_count = data_short['Año'].value_counts()\n",
    "year_count = year_count.sort_index(ascending = True)\n",
    "aeiou = year_count.plot(kind='bar', figsize=(12, 5), color='crimson')\n",
    "aeiou.set_title('Cantidad de juegos por año en el rango 1980-2025')\n"
   ]
  },
  {
   "cell_type": "markdown",
   "id": "323c3a8f-28b7-4c18-b1ea-06ee5273ea51",
   "metadata": {},
   "source": [
    "### ¿Cómo es la tendencia del gráfico?\n",
    "Claramente muestra que cerca del año 2020 hubo un boom de juegos publicados, si yo tuviese que adivinar sin información adicional, diría que se debe eso por la pandemia."
   ]
  },
  {
   "cell_type": "markdown",
   "id": "00599298-6bde-4a91-b40a-5e82e4d83deb",
   "metadata": {},
   "source": [
    "## Análisis de duración y complejidad\n",
    "> **3.3 a)** Inspecciones y filtre los datos que tengan valores válidos para: tiempo mínimo de juego, tiempo máximo de juego y complejidad. En el caso de que existan \"outliers\", puede descartarlos, cosiderando un rango razonable para las variables anteriores. Justifique su desición."
   ]
  },
  {
   "cell_type": "markdown",
   "id": "c3de8062-ef1e-4f21-91a1-b519cbc0ed96",
   "metadata": {},
   "source": [
    "Lo primero que voy a hacer es determinar el tiempo mínimo de juego, lo cuál va a ser mayor a 0 horas, dado a que me imagino que se va a necesitar jugar por algo de tiempo para que el juego sea considerado jugado. Para el tiempo máximo, voy a considerar la duración aproximada del juego de mesa más largo de la historia, \"The Campaign for North Africa\", el cuál dura 1,500 horas, o 90,000 minutos. Es decir, el rango de tiempos válidos va a ser de **0 a 90,000 minutos**."
   ]
  },
  {
   "cell_type": "code",
   "execution_count": 11,
   "id": "3d9f76b1-ae21-4114-9fc8-daf283b8de0e",
   "metadata": {},
   "outputs": [
    {
     "name": "stdout",
     "output_type": "stream",
     "text": [
      "1.0 - 157680.0\n",
      "\n",
      "\n",
      "1.0 - 63072000.0\n"
     ]
    }
   ],
   "source": [
    "df_sin_filtrar = data_rango.copy()\n",
    "print(df_sin_filtrar['min_time'].min(), '-', df_sin_filtrar['min_time'].max())\n",
    "print('\\n')\n",
    "print(df_sin_filtrar['max_time'].min(), '-', df_sin_filtrar['max_time'].max())"
   ]
  },
  {
   "cell_type": "markdown",
   "id": "c4768e3e-a010-4a0a-aebf-7a9fbb9c0299",
   "metadata": {},
   "source": [
    "Asumiendo que el tiempo está en minutos, esto significa que hay valores que no entran en mi rango, por lo que los voy a eliminar."
   ]
  },
  {
   "cell_type": "code",
   "execution_count": 12,
   "id": "a89ae030-2b02-44c8-8dd2-43bd79f8cd5f",
   "metadata": {},
   "outputs": [
    {
     "name": "stdout",
     "output_type": "stream",
     "text": [
      "1.0 - 60120.0\n",
      "\n",
      "\n",
      "1.0 - 84000.0\n"
     ]
    }
   ],
   "source": [
    "# Hacer que 'min_time' y 'max_time' no sean mayores a 90,000 minutos.\n",
    "df_filtrar = df_sin_filtrar[df_sin_filtrar['min_time'] <= 90000]\n",
    "df_filtrar = df_filtrar[df_filtrar['max_time'] <= 90000]\n",
    "# Asegurarse que 'min_time' y 'max_time' no sean igual o menores a 0 minutos.\n",
    "df_filtrar = df_filtrar[df_filtrar['min_time'] > 0]\n",
    "df_filtrar = df_filtrar[df_filtrar['max_time'] > 0]\n",
    "\n",
    "# Printear nuevos rangos de tiempo.\n",
    "print(df_filtrar['min_time'].min(), '-', df_filtrar['min_time'].max())\n",
    "print('\\n')\n",
    "print(df_filtrar['max_time'].min(), '-', df_filtrar['max_time'].max())"
   ]
  },
  {
   "cell_type": "markdown",
   "id": "adead11b-6c81-4a65-8b61-6357b1cecbbb",
   "metadata": {},
   "source": [
    "Ahora que tengo solo los tiempos válidos, voy a ver la complejidad."
   ]
  },
  {
   "cell_type": "code",
   "execution_count": 13,
   "id": "9b13a9c6-2780-425a-a5ec-1085e9a500fe",
   "metadata": {},
   "outputs": [
    {
     "name": "stdout",
     "output_type": "stream",
     "text": [
      "1.0 - 5.0\n"
     ]
    }
   ],
   "source": [
    "print(df_filtrar['complexity'].min(), '-', df_filtrar['complexity'].max())"
   ]
  },
  {
   "cell_type": "markdown",
   "id": "2bf9b6c1-908b-4d90-a8ec-55c030d8ba4d",
   "metadata": {},
   "source": [
    "Con esta información me imagino que es una escala del 1 al 5, por lo que voy a filtrar todos los valores **menores a 1** y **mayores a 5**. Pero primero voy a añadir información con complejidad fuera del rango para asegurarme que sea eliminada."
   ]
  },
  {
   "cell_type": "code",
   "execution_count": 14,
   "id": "2718e47d-7b17-4a22-baec-c03cbb8402b6",
   "metadata": {},
   "outputs": [
    {
     "name": "stdout",
     "output_type": "stream",
     "text": [
      "0.5 - 6.0 <-- Valores erroneos, no deberían estar después\n"
     ]
    }
   ],
   "source": [
    "# Introducir errores.\n",
    "df_filtrar.loc[len(df_filtrar)] = ['wagh', 1234, 0,0,0,0,0,0,0,0,0,0,0,0,0,0,0,0,0,0,0,0,0,0,0,0,0,0,0,6.0,0,0,0,0,0,0,0]\n",
    "df_filtrar.loc[len(df_filtrar)] = ['wagh', 1234, 0,0,0,0,0,0,0,0,0,0,0,0,0,0,0,0,0,0,0,0,0,0,0,0,0,0,0,0.5,0,0,0,0,0,0,0]\n",
    "# Printear para confirmar que ahora hay errores.\n",
    "print(df_filtrar['complexity'].min(), '-', df_filtrar['complexity'].max(), '<-- Valores erroneos, no deberían estar después')"
   ]
  },
  {
   "cell_type": "code",
   "execution_count": 15,
   "id": "7c31c6b7-dc3d-4b59-8e92-c53eca41e2e1",
   "metadata": {},
   "outputs": [
    {
     "name": "stdout",
     "output_type": "stream",
     "text": [
      "1.0 - 5.0\n"
     ]
    }
   ],
   "source": [
    "# Filtrar complejidad.\n",
    "df_filtrar = df_filtrar[df_filtrar['complexity'] >= 1]\n",
    "df_filtrar = df_filtrar[df_filtrar['complexity'] <= 5]\n",
    "\n",
    "# Printear complexidad filtrada.\n",
    "print(df_filtrar['complexity'].min(), '-', df_filtrar['complexity'].max())"
   ]
  },
  {
   "cell_type": "markdown",
   "id": "9a5a7cf2-f318-4e10-9002-f7a422a94724",
   "metadata": {},
   "source": [
    "Ahora puedo ver que en efecto la complejidad fue filtrada correctamente aunque la data inicial no hubiese necesitado filtración."
   ]
  },
  {
   "cell_type": "markdown",
   "id": "60eb111c-74dd-4a11-bc4c-1f85fce073be",
   "metadata": {},
   "source": [
    "> **3.3 b)** Veremos ahora si ha cambiado la duración promedio de los juegos de mesa en nuestro rango de años seleccionado. Primero, cree una nueva columna `avg_time` en el dataset con la duración promedio supuesta para cada juego."
   ]
  },
  {
   "cell_type": "code",
   "execution_count": 16,
   "id": "829eee3d-bd42-471c-8287-7f3470d6e793",
   "metadata": {},
   "outputs": [
    {
     "data": {
      "text/html": [
       "<div>\n",
       "<style scoped>\n",
       "    .dataframe tbody tr th:only-of-type {\n",
       "        vertical-align: middle;\n",
       "    }\n",
       "\n",
       "    .dataframe tbody tr th {\n",
       "        vertical-align: top;\n",
       "    }\n",
       "\n",
       "    .dataframe thead th {\n",
       "        text-align: right;\n",
       "    }\n",
       "</style>\n",
       "<table border=\"1\" class=\"dataframe\">\n",
       "  <thead>\n",
       "    <tr style=\"text-align: right;\">\n",
       "      <th></th>\n",
       "      <th>name</th>\n",
       "      <th>year</th>\n",
       "      <th>game_type</th>\n",
       "      <th>designer</th>\n",
       "      <th>artist</th>\n",
       "      <th>publisher</th>\n",
       "      <th>min_players</th>\n",
       "      <th>max_players</th>\n",
       "      <th>min_players_rec</th>\n",
       "      <th>max_players_rec</th>\n",
       "      <th>...</th>\n",
       "      <th>bayes_rating</th>\n",
       "      <th>complexity</th>\n",
       "      <th>language_dependency</th>\n",
       "      <th>bga_id</th>\n",
       "      <th>dbpedia_id</th>\n",
       "      <th>luding_id</th>\n",
       "      <th>spielen_id</th>\n",
       "      <th>wikidata_id</th>\n",
       "      <th>wikipedia_id</th>\n",
       "      <th>avg_time</th>\n",
       "    </tr>\n",
       "    <tr>\n",
       "      <th>bgg_id</th>\n",
       "      <th></th>\n",
       "      <th></th>\n",
       "      <th></th>\n",
       "      <th></th>\n",
       "      <th></th>\n",
       "      <th></th>\n",
       "      <th></th>\n",
       "      <th></th>\n",
       "      <th></th>\n",
       "      <th></th>\n",
       "      <th></th>\n",
       "      <th></th>\n",
       "      <th></th>\n",
       "      <th></th>\n",
       "      <th></th>\n",
       "      <th></th>\n",
       "      <th></th>\n",
       "      <th></th>\n",
       "      <th></th>\n",
       "      <th></th>\n",
       "      <th></th>\n",
       "    </tr>\n",
       "  </thead>\n",
       "  <tbody>\n",
       "    <tr>\n",
       "      <th>1</th>\n",
       "      <td>Die Macher</td>\n",
       "      <td>1986</td>\n",
       "      <td>['Strategy Game']</td>\n",
       "      <td>['Karl-Heinz Schmiel']</td>\n",
       "      <td>['Marcus Gschwendtner', 'Harald Lieske']</td>\n",
       "      <td>['Hans im Glück', 'Moskito Spiele', 'Ediciones...</td>\n",
       "      <td>3.0</td>\n",
       "      <td>5.0</td>\n",
       "      <td>4.0</td>\n",
       "      <td>5.0</td>\n",
       "      <td>...</td>\n",
       "      <td>7.06367</td>\n",
       "      <td>4.3144</td>\n",
       "      <td>1.166667</td>\n",
       "      <td>NaN</td>\n",
       "      <td>NaN</td>\n",
       "      <td>NaN</td>\n",
       "      <td>NaN</td>\n",
       "      <td>NaN</td>\n",
       "      <td>NaN</td>\n",
       "      <td>240.0</td>\n",
       "    </tr>\n",
       "    <tr>\n",
       "      <th>2</th>\n",
       "      <td>Dragonmaster</td>\n",
       "      <td>1981</td>\n",
       "      <td>['Strategy Game']</td>\n",
       "      <td>['G. W. \"Jerry\" D\\'Arcey']</td>\n",
       "      <td>['Bob Pepper']</td>\n",
       "      <td>['E.S. Lowe', 'Milton Bradley']</td>\n",
       "      <td>3.0</td>\n",
       "      <td>4.0</td>\n",
       "      <td>3.0</td>\n",
       "      <td>4.0</td>\n",
       "      <td>...</td>\n",
       "      <td>5.76599</td>\n",
       "      <td>1.9636</td>\n",
       "      <td>NaN</td>\n",
       "      <td>NaN</td>\n",
       "      <td>NaN</td>\n",
       "      <td>NaN</td>\n",
       "      <td>NaN</td>\n",
       "      <td>NaN</td>\n",
       "      <td>NaN</td>\n",
       "      <td>30.0</td>\n",
       "    </tr>\n",
       "    <tr>\n",
       "      <th>3</th>\n",
       "      <td>Samurai</td>\n",
       "      <td>1998</td>\n",
       "      <td>['Strategy Game']</td>\n",
       "      <td>['Reiner Knizia']</td>\n",
       "      <td>['Franz Vohwinkel']</td>\n",
       "      <td>['Fantasy Flight Games', 'Hans im Glück', '999...</td>\n",
       "      <td>2.0</td>\n",
       "      <td>4.0</td>\n",
       "      <td>2.0</td>\n",
       "      <td>4.0</td>\n",
       "      <td>...</td>\n",
       "      <td>7.22869</td>\n",
       "      <td>2.4784</td>\n",
       "      <td>1.006579</td>\n",
       "      <td>NaN</td>\n",
       "      <td>NaN</td>\n",
       "      <td>NaN</td>\n",
       "      <td>NaN</td>\n",
       "      <td>NaN</td>\n",
       "      <td>NaN</td>\n",
       "      <td>45.0</td>\n",
       "    </tr>\n",
       "  </tbody>\n",
       "</table>\n",
       "<p>3 rows × 38 columns</p>\n",
       "</div>"
      ],
      "text/plain": [
       "                name  year          game_type                    designer  \\\n",
       "bgg_id                                                                      \n",
       "1         Die Macher  1986  ['Strategy Game']      ['Karl-Heinz Schmiel']   \n",
       "2       Dragonmaster  1981  ['Strategy Game']  ['G. W. \"Jerry\" D\\'Arcey']   \n",
       "3            Samurai  1998  ['Strategy Game']           ['Reiner Knizia']   \n",
       "\n",
       "                                          artist  \\\n",
       "bgg_id                                             \n",
       "1       ['Marcus Gschwendtner', 'Harald Lieske']   \n",
       "2                                 ['Bob Pepper']   \n",
       "3                            ['Franz Vohwinkel']   \n",
       "\n",
       "                                                publisher  min_players  \\\n",
       "bgg_id                                                                   \n",
       "1       ['Hans im Glück', 'Moskito Spiele', 'Ediciones...          3.0   \n",
       "2                         ['E.S. Lowe', 'Milton Bradley']          3.0   \n",
       "3       ['Fantasy Flight Games', 'Hans im Glück', '999...          2.0   \n",
       "\n",
       "        max_players  min_players_rec  max_players_rec  ...  bayes_rating  \\\n",
       "bgg_id                                                 ...                 \n",
       "1               5.0              4.0              5.0  ...       7.06367   \n",
       "2               4.0              3.0              4.0  ...       5.76599   \n",
       "3               4.0              2.0              4.0  ...       7.22869   \n",
       "\n",
       "        complexity  language_dependency  bga_id  dbpedia_id  luding_id  \\\n",
       "bgg_id                                                                   \n",
       "1           4.3144             1.166667     NaN         NaN        NaN   \n",
       "2           1.9636                  NaN     NaN         NaN        NaN   \n",
       "3           2.4784             1.006579     NaN         NaN        NaN   \n",
       "\n",
       "       spielen_id wikidata_id  wikipedia_id  avg_time  \n",
       "bgg_id                                                 \n",
       "1             NaN         NaN           NaN     240.0  \n",
       "2             NaN         NaN           NaN      30.0  \n",
       "3             NaN         NaN           NaN      45.0  \n",
       "\n",
       "[3 rows x 38 columns]"
      ]
     },
     "execution_count": 16,
     "metadata": {},
     "output_type": "execute_result"
    }
   ],
   "source": [
    "# Hacer nueva columna sacando promedio de tiempo.\n",
    "df_filtrar['avg_time'] = (df_filtrar['min_time'] + df_filtrar['max_time']) / 2\n",
    "\n",
    "df_filtrar.head(3)"
   ]
  },
  {
   "cell_type": "markdown",
   "id": "34ee8ff4-5e2d-4e8e-a085-af7a76d6b50b",
   "metadata": {},
   "source": [
    "Sip, funciona, ahora aparece la columna 'avg_time'."
   ]
  },
  {
   "cell_type": "markdown",
   "id": "4f00092b-7b92-4a49-bfb5-098f9f9e5dbe",
   "metadata": {},
   "source": [
    "> **3.3 c)** Grafique la duración promedio de juegos al año entre 1980 y 2025. ¿Existe alguna tendencia? Asegúrese de colocar las unidades correspondientes en sus ejes si es necesario. Comente sus resultados."
   ]
  },
  {
   "cell_type": "code",
   "execution_count": 17,
   "id": "51fbfb62-fbff-404d-ad55-ec1a03f7d106",
   "metadata": {},
   "outputs": [
    {
     "data": {
      "text/plain": [
       "year\n",
       "1980    100.588608\n",
       "1981    117.829825\n",
       "1982     90.628253\n",
       "Name: avg_time, dtype: float64"
      ]
     },
     "execution_count": 17,
     "metadata": {},
     "output_type": "execute_result"
    }
   ],
   "source": [
    "# Agrupa y consigue el promedio de los promedios de tiempo por cada año.\n",
    "avg_time_por_year = df_filtrar.groupby('year')['avg_time'].mean()\n",
    "avg_time_por_year.head(3)"
   ]
  },
  {
   "cell_type": "markdown",
   "id": "a5045878-454a-4760-9f60-0fc887364e6d",
   "metadata": {},
   "source": [
    "Ahora que tengo una cosa con ambos los años y los promedios por año, puedo hacer el gráfico."
   ]
  },
  {
   "cell_type": "code",
   "execution_count": 20,
   "id": "320adaaf-e9e2-4959-a357-9b1d12fed94d",
   "metadata": {},
   "outputs": [
    {
     "data": {
      "text/plain": [
       "Text(0, 0.5, 'Tiempo promedio (minutos)')"
      ]
     },
     "execution_count": 20,
     "metadata": {},
     "output_type": "execute_result"
    },
    {
     "data": {
      "image/png": "[encoded data removed]",
      "text/plain": [
       "<Figure size 1200x500 with 1 Axes>"
      ]
     },
     "metadata": {},
     "output_type": "display_data"
    }
   ],
   "source": [
    "grafico = avg_time_por_year.plot(kind='bar', figsize=(12, 5), color='brown')\n",
    "grafico.set_title('Duración promedio de juegos por año')\n",
    "plt.xlabel(\"Años\")\n",
    "plt.ylabel(\"Tiempo promedio (minutos)\")"
   ]
  },
  {
   "cell_type": "markdown",
   "id": "263ed64e-0b7a-4ddb-9b2e-9825b3451b3f",
   "metadata": {},
   "source": [
    "No hay mucha información que realmente pueda sacar además de que al pasar los años los juegos parecen tener menor duración, pero algo que yo creo que si cabe resaltar es que en el año 1991 algún juego parece haber aumentado mucho el promedio, lo cuál podría ser un outlier."
   ]
  },
  {
   "cell_type": "markdown",
   "id": "0038c6a2-6e6f-47e6-9e44-aee8d9af89d2",
   "metadata": {},
   "source": [
    "> **3.3 d)** Nos interesa saber si los juegos de mesa recientes son más complejos que aquellos publicados antes de los 2000. BoardGameGeek permite evaluar la complejidad (o \"weight\") de un juego en una escala de 1 a 5, siendo 1 un juego \"liviano\" o fácil de entender, y 5 un juego \"pesado\" o complejo. Primero, seleccione los juegos que han sido evaluados por al menos 100 usuarios. Luego grafique la complejidad promedio de los juegos según año. Responda: ¿ha cambiado la percepción de complejidad entre juegos entre 1980 y la actualidad?"
   ]
  },
  {
   "cell_type": "markdown",
   "id": "4b090861-4a44-4e1b-8458-b9617c9276cd",
   "metadata": {},
   "source": [
    "Primero, voy a crear un dataframe, removiendo todos los juegos con menos de 100 evaluaciones. Luego voy a graficarlos."
   ]
  },
  {
   "cell_type": "code",
   "execution_count": 29,
   "id": "047feb59-0e06-44b2-8668-f4ad9b44b4ca",
   "metadata": {},
   "outputs": [
    {
     "data": {
      "text/plain": [
       "(0.0, 5.0)"
      ]
     },
     "execution_count": 29,
     "metadata": {},
     "output_type": "execute_result"
    },
    {
     "data": {
      "image/png": "[encoded data removed]",
      "text/plain": [
       "<Figure size 1200x500 with 1 Axes>"
      ]
     },
     "metadata": {},
     "output_type": "display_data"
    }
   ],
   "source": [
    "# df inicial\n",
    "df_complejidad_entero = df_filtrar[df_filtrar['num_votes'] >= 100]\n",
    "\n",
    "# Crear info para plot\n",
    "comp_promedio = df_complejidad_entero.groupby('year')['complexity'].mean()\n",
    "\n",
    "# Plotear\n",
    "grafico_2 = comp_promedio.plot(kind='bar', figsize=(12, 5), color='purple')\n",
    "grafico_2.set_title('Complejidad promedio de juegos por año')\n",
    "plt.xlabel(\"Años\")\n",
    "plt.ylabel(\"Complejidad promedio\")\n",
    "plt.ylim(0, 5)"
   ]
  },
  {
   "cell_type": "markdown",
   "id": "4d8a1fa9-5e6b-4b57-9145-4e7d3c789e65",
   "metadata": {},
   "source": [
    "### ¿Ha cambiado la percepción de la complejidad entre juegos entre 1980 y la actualidad?\n",
    "¿Tal vez? A lo menos se puede ver que antes de los 2000 la complejidad promedio era más alta pero fue bajando al pasar los años, pero no es un cambio suficientemente drástico como para estar seguro."
   ]
  },
  {
   "cell_type": "markdown",
   "id": "c63ce033-4fb6-4f45-9ff0-9eeb46e9be02",
   "metadata": {},
   "source": [
    "## Análisis de categorías comunes\n",
    "> **3.4 a)** ¿Cuáles son las 5 categorías más comunes en los juegos del dataset? Muestre la cantidad de juegos que hay de cada una. Puede graficar estos valores, o bien, entregar un DataFrame con sus valores."
   ]
  },
  {
   "cell_type": "markdown",
   "id": "908ad511-f02f-4797-a23a-ef3cc1e76291",
   "metadata": {},
   "source": [
    "Voy a crear una copia de mi dataframe principal."
   ]
  },
  {
   "cell_type": "code",
   "execution_count": 41,
   "id": "d140cc58-4b49-4292-b106-399641637564",
   "metadata": {},
   "outputs": [
    {
     "data": {
      "text/html": [
       "<div>\n",
       "<style scoped>\n",
       "    .dataframe tbody tr th:only-of-type {\n",
       "        vertical-align: middle;\n",
       "    }\n",
       "\n",
       "    .dataframe tbody tr th {\n",
       "        vertical-align: top;\n",
       "    }\n",
       "\n",
       "    .dataframe thead th {\n",
       "        text-align: right;\n",
       "    }\n",
       "</style>\n",
       "<table border=\"1\" class=\"dataframe\">\n",
       "  <thead>\n",
       "    <tr style=\"text-align: right;\">\n",
       "      <th></th>\n",
       "      <th>Strategy Game</th>\n",
       "      <th>nan</th>\n",
       "      <th>Abstract Game</th>\n",
       "      <th>Family Game</th>\n",
       "      <th>Thematic</th>\n",
       "      <th>Customizable</th>\n",
       "      <th>War Game</th>\n",
       "      <th>Party Game</th>\n",
       "      <th>Children's Game</th>\n",
       "      <th>Amiga</th>\n",
       "      <th>Commodore 64</th>\n",
       "      <th>Arcade</th>\n",
       "      <th>Atari ST</th>\n",
       "    </tr>\n",
       "  </thead>\n",
       "  <tbody>\n",
       "    <tr>\n",
       "      <th>0</th>\n",
       "      <td>2849</td>\n",
       "      <td>88074</td>\n",
       "      <td>4923</td>\n",
       "      <td>3163</td>\n",
       "      <td>1563</td>\n",
       "      <td>569</td>\n",
       "      <td>9779</td>\n",
       "      <td>862</td>\n",
       "      <td>4142</td>\n",
       "      <td>1</td>\n",
       "      <td>1</td>\n",
       "      <td>1</td>\n",
       "      <td>1</td>\n",
       "    </tr>\n",
       "  </tbody>\n",
       "</table>\n",
       "</div>"
      ],
      "text/plain": [
       "   Strategy Game    nan  Abstract Game  Family Game  Thematic  Customizable  \\\n",
       "0           2849  88074           4923         3163      1563           569   \n",
       "\n",
       "   War Game  Party Game  Children's Game  Amiga  Commodore 64  Arcade  \\\n",
       "0      9779         862             4142      1             1       1   \n",
       "\n",
       "   Atari ST  \n",
       "0         1  "
      ]
     },
     "execution_count": 41,
     "metadata": {},
     "output_type": "execute_result"
    }
   ],
   "source": [
    "df_encontrar_categoria = pd.DataFrame()\n",
    "df_encontrar_categoria['game_type'] = dataframe_nuevo['game_type']\n",
    "\n",
    "dict_categoria = dict()\n",
    "\n",
    "for lista in df_encontrar_categoria['game_type']:\n",
    "    for cat in lista:\n",
    "        dict_categoria[cat] = dict_categoria.get(cat, 0) + 1\n",
    "\n",
    "df_categoria = pd.DataFrame(dict_categoria, index=[0])\n",
    "df_categoria.head()"
   ]
  },
  {
   "cell_type": "code",
   "execution_count": null,
   "id": "dac72167-494d-413d-91d0-4d701d59ad2b",
   "metadata": {},
   "outputs": [],
   "source": []
  }
 ],
 "metadata": {
  "kernelspec": {
   "display_name": "Python 3 (ipykernel)",
   "language": "python",
   "name": "python3"
  },
  "language_info": {
   "codemirror_mode": {
    "name": "ipython",
    "version": 3
   },
   "file_extension": ".py",
   "mimetype": "text/x-python",
   "name": "python",
   "nbconvert_exporter": "python",
   "pygments_lexer": "ipython3",
   "version": "3.11.9"
  }
 },
 "nbformat": 4,
 "nbformat_minor": 5
}
