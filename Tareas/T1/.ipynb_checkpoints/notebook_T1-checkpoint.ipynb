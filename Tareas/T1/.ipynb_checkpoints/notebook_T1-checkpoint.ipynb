{
 "cells": [
  {
   "cell_type": "markdown",
   "id": "8cb32e3e-0a3c-460b-bbe3-6680457c742e",
   "metadata": {},
   "source": [
    "### Librerías\n",
    "> Aquí importo las librerías recomendadas en el notebook de la tarea 1."
   ]
  },
  {
   "cell_type": "code",
   "execution_count": 1,
   "id": "63107168-a7f1-4945-b031-5d73c749164e",
   "metadata": {},
   "outputs": [],
   "source": [
    "import numpy as np\n",
    "import pandas as pd\n",
    "import matplotlib.pyplot as plt\n",
    "import os"
   ]
  },
  {
   "cell_type": "markdown",
   "id": "da646794-df7b-4660-88d1-72330388d1ce",
   "metadata": {},
   "source": [
    "### Dataframe unificado\n",
    "> **3.1 a)** Genere un DataFrame único con toda la información de cada juego, incluyendo: nombres de artistas y diseñadores involucrados, mecánicas, categorías, tipo, familia y editorial. Guarde este DataFrame en un nuevo archivo CSV."
   ]
  },
  {
   "cell_type": "markdown",
   "id": "d1bec56b-034b-456c-a1e7-f3bc86cf9638",
   "metadata": {},
   "source": [
    "Primero, voy a generar los paths a los archivos con el módulo 'os'."
   ]
  },
  {
   "cell_type": "code",
   "execution_count": 2,
   "id": "79ec02c5-3fa6-47c1-b614-3512d688096a",
   "metadata": {},
   "outputs": [],
   "source": [
    "## Paths\n",
    "path_de_juegos = os.path.join('data', 'bgg_GameItem.csv')\n",
    "path_de_tipo_juego = os.path.join('data', 'bgg_GameType.csv')\n",
    "path_de_personas = os.path.join('data', 'bgg_Person.csv')\n",
    "path_de_publisher = os.path.join('data', 'bgg_Publisher.csv')\n",
    "path_de_categorias = os.path.join('data', 'bgg_Category.csv')\n",
    "path_de_mecanicas = os.path.join('data', 'bgg_Mechanic.csv')\n",
    "path_de_familias = os.path.join('data', 'bgg_GameFamily.csv')"
   ]
  },
  {
   "cell_type": "markdown",
   "id": "8d26ae9d-678d-499a-b4a0-735cd031610b",
   "metadata": {},
   "source": [
    "Carga de archivos, también corrige los datos de las columnas."
   ]
  },
  {
   "cell_type": "code",
   "execution_count": 3,
   "id": "e6cf5b90-32e7-4856-a354-dc2974600639",
   "metadata": {},
   "outputs": [],
   "source": [
    "## Carga\n",
    "data_juegos = pd.read_csv(path_de_juegos, delimiter=',').set_index('bgg_id')\n",
    "data_tipo_juego = pd.read_csv(path_de_tipo_juego, delimiter=',').set_index('bgg_id')['name']\n",
    "data_persona = pd.read_csv(path_de_personas, delimiter=',').set_index('bgg_id')['name']\n",
    "data_publisher = pd.read_csv(path_de_publisher, delimiter=',').set_index('bgg_id')['name']\n",
    "data_categoria = pd.read_csv(path_de_categorias, delimiter=',').set_index('bgg_id')['name']\n",
    "data_mecanica = pd.read_csv(path_de_mecanicas, delimiter=',').set_index('bgg_id')['name']\n",
    "data_familia = pd.read_csv(path_de_familias, delimiter=',').set_index('bgg_id')['name']\n",
    "\n",
    "\n",
    "# Convertir columnas de data_juegos a \"str\" para eliminar \"float\", convertir en lista.\n",
    "## Lista de columnas de juegos que voy a convertir de id a nombre.\n",
    "columnas_a_convertir = ['game_type','designer', 'artist', 'publisher', 'category', 'mechanic', 'family']\n",
    "## Hace que se repita para cada columna pedida.\n",
    "for i in columnas_a_convertir:\n",
    "    # Esto convierte los valores de las columnas de str/float a una lista con str.\n",
    "    lista_creada = data_juegos[i].astype(str).str.split(',')\n",
    "    \n",
    "    # Si está en columna 'designer' o 'artist', es decir si tiene ID de persona.\n",
    "    if i in ['designer', 'artist']:\n",
    "        for lista in lista_creada:\n",
    "            # Esto reemplaza los contenidos de las listas por el nombre de las personas.\n",
    "            for j in range(len(lista)):\n",
    "                if lista[j] != 'nan':\n",
    "                    lista[j] = data_persona[int(lista[j])]\n",
    "    \n",
    "    # Si está en columna 'game_type', es decir si tiene ID de tipo de juego.\n",
    "    elif i in ['game_type']:\n",
    "        for lista in lista_creada:\n",
    "            # Esto reemplaza los contenidos de las listas por tipo de juego.\n",
    "            for j in range(len(lista)):\n",
    "                if lista[j] != 'nan':\n",
    "                    lista[j] = data_tipo_juego[int(lista[j])]\n",
    "\n",
    "    # Si está en columna 'publisher', es decir si tiene IDs de sus publishers.\n",
    "    elif i in ['publisher']:\n",
    "        for lista in lista_creada:\n",
    "            # Esto reemplaza los contenidos de las listas por nombre de editoriales.\n",
    "            for j in range(len(lista)):\n",
    "                if lista[j] != 'nan':\n",
    "                    lista[j] = data_publisher[int(lista[j])]\n",
    "\n",
    "    # Si está en columna 'category'.\n",
    "    elif i in ['category']:\n",
    "        for lista in lista_creada:\n",
    "            # Esto reemplaza los contenidos de las listas por nombre de categorias.\n",
    "            for j in range(len(lista)):\n",
    "                if lista[j] != 'nan':\n",
    "                    lista[j] = data_categoria[int(lista[j])]\n",
    "\n",
    "    # Si está en columna 'mechanic'.\n",
    "    elif i in ['mechanic']:\n",
    "        for lista in lista_creada:\n",
    "            # Esto reemplaza los contenidos de las listas por nombre de mecánicas.\n",
    "            for j in range(len(lista)):\n",
    "                if lista[j] != 'nan':\n",
    "                    lista[j] = data_mecanica[int(lista[j])]\n",
    "\n",
    "    # Si está en columna 'family'\n",
    "    elif i in ['family']:\n",
    "        for lista in lista_creada:\n",
    "            # Esto reemplaza los contenidos de las listas por la familia a la que pertenece.\n",
    "            for j in range(len(lista)):\n",
    "                if lista[j] != 'nan':\n",
    "                    lista[j] = data_familia[int(lista[j])]\n",
    "                    \n",
    "    # Guarda los cambios a la columna.\n",
    "    data_juegos[i] = lista_creada"
   ]
  },
  {
   "cell_type": "markdown",
   "id": "38fb9ace-45bd-4a2a-8171-dd4e95fc3605",
   "metadata": {},
   "source": [
    "Ahora voy a crear el dataframe unificado con las columnas del dataframe data_juegos."
   ]
  },
  {
   "cell_type": "code",
   "execution_count": 4,
   "id": "65eefa28-a4da-4a1c-8966-0d579646635d",
   "metadata": {},
   "outputs": [
    {
     "data": {
      "text/html": [
       "<div>\n",
       "<style scoped>\n",
       "    .dataframe tbody tr th:only-of-type {\n",
       "        vertical-align: middle;\n",
       "    }\n",
       "\n",
       "    .dataframe tbody tr th {\n",
       "        vertical-align: top;\n",
       "    }\n",
       "\n",
       "    .dataframe thead th {\n",
       "        text-align: right;\n",
       "    }\n",
       "</style>\n",
       "<table border=\"1\" class=\"dataframe\">\n",
       "  <thead>\n",
       "    <tr style=\"text-align: right;\">\n",
       "      <th></th>\n",
       "      <th>Nombre Juego</th>\n",
       "      <th>Artistas</th>\n",
       "      <th>Diseñadores</th>\n",
       "      <th>Mecánicas</th>\n",
       "      <th>Categorias</th>\n",
       "      <th>Tipo</th>\n",
       "      <th>Familia</th>\n",
       "      <th>Editorial</th>\n",
       "    </tr>\n",
       "    <tr>\n",
       "      <th>bgg_id</th>\n",
       "      <th></th>\n",
       "      <th></th>\n",
       "      <th></th>\n",
       "      <th></th>\n",
       "      <th></th>\n",
       "      <th></th>\n",
       "      <th></th>\n",
       "      <th></th>\n",
       "    </tr>\n",
       "  </thead>\n",
       "  <tbody>\n",
       "    <tr>\n",
       "      <th>1</th>\n",
       "      <td>Die Macher</td>\n",
       "      <td>[Marcus Gschwendtner, Harald Lieske]</td>\n",
       "      <td>[Karl-Heinz Schmiel]</td>\n",
       "      <td>[Alliances, Area Majority / Influence, Auction...</td>\n",
       "      <td>[Economic, Negotiation, Political]</td>\n",
       "      <td>[Strategy Game]</td>\n",
       "      <td>[Country: Germany, Political: Elections, Serie...</td>\n",
       "      <td>[Hans im Glück, Moskito Spiele, Ediciones MasQ...</td>\n",
       "    </tr>\n",
       "    <tr>\n",
       "      <th>2</th>\n",
       "      <td>Dragonmaster</td>\n",
       "      <td>[Bob Pepper]</td>\n",
       "      <td>[G. W. \"Jerry\" D'Arcey]</td>\n",
       "      <td>[Trick-taking]</td>\n",
       "      <td>[Card Game, Fantasy]</td>\n",
       "      <td>[Strategy Game]</td>\n",
       "      <td>[Components: Gems/Crystals, Creatures: Dragons...</td>\n",
       "      <td>[E.S. Lowe, Milton Bradley]</td>\n",
       "    </tr>\n",
       "    <tr>\n",
       "      <th>3</th>\n",
       "      <td>Samurai</td>\n",
       "      <td>[Franz Vohwinkel]</td>\n",
       "      <td>[Reiner Knizia]</td>\n",
       "      <td>[Area Majority / Influence, Hand Management, H...</td>\n",
       "      <td>[Abstract Strategy, Medieval]</td>\n",
       "      <td>[Strategy Game]</td>\n",
       "      <td>[Components: Map (Continental / National scale...</td>\n",
       "      <td>[Fantasy Flight Games, Hans im Glück, 999 Game...</td>\n",
       "    </tr>\n",
       "  </tbody>\n",
       "</table>\n",
       "</div>"
      ],
      "text/plain": [
       "        Nombre Juego                              Artistas  \\\n",
       "bgg_id                                                       \n",
       "1         Die Macher  [Marcus Gschwendtner, Harald Lieske]   \n",
       "2       Dragonmaster                          [Bob Pepper]   \n",
       "3            Samurai                     [Franz Vohwinkel]   \n",
       "\n",
       "                    Diseñadores  \\\n",
       "bgg_id                            \n",
       "1          [Karl-Heinz Schmiel]   \n",
       "2       [G. W. \"Jerry\" D'Arcey]   \n",
       "3               [Reiner Knizia]   \n",
       "\n",
       "                                                Mecánicas  \\\n",
       "bgg_id                                                      \n",
       "1       [Alliances, Area Majority / Influence, Auction...   \n",
       "2                                          [Trick-taking]   \n",
       "3       [Area Majority / Influence, Hand Management, H...   \n",
       "\n",
       "                                Categorias             Tipo  \\\n",
       "bgg_id                                                        \n",
       "1       [Economic, Negotiation, Political]  [Strategy Game]   \n",
       "2                     [Card Game, Fantasy]  [Strategy Game]   \n",
       "3            [Abstract Strategy, Medieval]  [Strategy Game]   \n",
       "\n",
       "                                                  Familia  \\\n",
       "bgg_id                                                      \n",
       "1       [Country: Germany, Political: Elections, Serie...   \n",
       "2       [Components: Gems/Crystals, Creatures: Dragons...   \n",
       "3       [Components: Map (Continental / National scale...   \n",
       "\n",
       "                                                Editorial  \n",
       "bgg_id                                                     \n",
       "1       [Hans im Glück, Moskito Spiele, Ediciones MasQ...  \n",
       "2                             [E.S. Lowe, Milton Bradley]  \n",
       "3       [Fantasy Flight Games, Hans im Glück, 999 Game...  "
      ]
     },
     "execution_count": 4,
     "metadata": {},
     "output_type": "execute_result"
    }
   ],
   "source": [
    "dataframe_nuevo = pd.DataFrame()\n",
    "dataframe_nuevo['Nombre Juego'] = data_juegos['name']\n",
    "dataframe_nuevo['Artistas'] = data_juegos['artist']\n",
    "dataframe_nuevo['Diseñadores'] = data_juegos['designer']\n",
    "dataframe_nuevo['Mecánicas'] = data_juegos['mechanic']\n",
    "dataframe_nuevo['Categorias'] = data_juegos['category']\n",
    "dataframe_nuevo['Tipo'] = data_juegos['game_type']\n",
    "dataframe_nuevo['Familia'] = data_juegos['family']\n",
    "dataframe_nuevo['Editorial'] = data_juegos['publisher']\n",
    "\n",
    "dataframe_nuevo.head(3)"
   ]
  },
  {
   "cell_type": "markdown",
   "id": "68755771-b809-42bd-915c-680fde47f19d",
   "metadata": {},
   "source": [
    "Ahora que tengo un nuevo dataframe con toda la información pedida, lo voy a convertir de vuelta a un archivo '.CSV'."
   ]
  },
  {
   "cell_type": "code",
   "execution_count": 5,
   "id": "2a2601d9-6326-422f-a3c4-46f4c0e7c566",
   "metadata": {},
   "outputs": [],
   "source": [
    "dataframe_nuevo.to_csv('Dataframe_unificado_3.1_a.csv', sep=',')"
   ]
  },
  {
   "cell_type": "markdown",
   "id": "d0ab45a1-e176-4f66-a2b9-607d6bedd30c",
   "metadata": {},
   "source": [
    "> **3.2 b)** ¿Cuánto espacio en disco ocupa este DataFrame? ¿Cuánto espacio en disco ocupan los documentos CSV separados? ¿A qué se debe esta diferencia? Comente."
   ]
  },
  {
   "cell_type": "markdown",
   "id": "4f81b122-af5b-4941-9b18-739df2292afe",
   "metadata": {},
   "source": [
    "El dataframe unificado ocupa:\n",
    "- **26,381** KB (**Dataframe_unificado_3.1_a.csv**)\n",
    "\n",
    "Los documentos CSV separados ocupan: \n",
    "- 2 KB (**bgg_Category.csv**)\n",
    "- 166 KB (**bgg_GameFamily.csv**)\n",
    "- 15,701 KB (**bgg_GameItem.csv**)\n",
    "- 1 KB (**bgg_GameType.csv**)\n",
    "- 5 KB (**bgg_Mechanic.csv**)\n",
    "- 1,135 KB (**bgg_Person.csv**)\n",
    "- 583 KB (**bgg_Publisher.csv**)\n",
    "- TOTAL: **17,593** KB\n",
    "\n",
    "### ¿Por que la diferencia? \n",
    "En este caso el Dataframe unificado pesa más que todos los documentos '.CSV' separados porque en vez de ahorrar espacio solo usando IDs para referirse a cosas (Como lo hacen los archivos originales), uno de los requisitos del dataframe unificado era que los elementos de las columnas mostraran los nombres completos en vez de los IDs, lo cuál hace que haya mucho más texto que en los archivos originales.\n",
    "Si se quisiese hacer que el dataframe unificado pesara menos, uno simplemente podría guardar los IDs en vez de los nombres (Pero eso es lo que hace el archivo original)."
   ]
  },
  {
   "cell_type": "code",
   "execution_count": null,
   "id": "6a2465e5-19a5-4fd8-80b5-5f4ffa9f5580",
   "metadata": {},
   "outputs": [],
   "source": []
  }
 ],
 "metadata": {
  "kernelspec": {
   "display_name": "Python 3 (ipykernel)",
   "language": "python",
   "name": "python3"
  },
  "language_info": {
   "codemirror_mode": {
    "name": "ipython",
    "version": 3
   },
   "file_extension": ".py",
   "mimetype": "text/x-python",
   "name": "python",
   "nbconvert_exporter": "python",
   "pygments_lexer": "ipython3",
   "version": "3.11.9"
  }
 },
 "nbformat": 4,
 "nbformat_minor": 5
}
